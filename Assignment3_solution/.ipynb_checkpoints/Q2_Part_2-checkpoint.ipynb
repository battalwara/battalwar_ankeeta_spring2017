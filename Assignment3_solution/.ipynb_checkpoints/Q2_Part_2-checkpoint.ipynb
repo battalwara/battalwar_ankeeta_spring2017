{
 "cells": [
  {
   "cell_type": "markdown",
   "metadata": {},
   "source": [
    "# Question 2 Part 2\n",
    "- Use 'employee_compensation.csv'\n",
    "- Use only calendar year data. Find average (mean) salary for every employee.\n",
    "- Now, find employees whose overtime salary is greater than 5% of their total salaries\n",
    "- For every Job Family, calculate percentage of total benefits wrt total compensation.\n",
    "- Write it to a CSV file with added column 'Percent Total Benefit'"
   ]
  },
  {
   "cell_type": "code",
   "execution_count": 2,
   "metadata": {
    "collapsed": true
   },
   "outputs": [],
   "source": [
    "import os\n",
    "import pandas as pd"
   ]
  },
  {
   "cell_type": "code",
   "execution_count": 22,
   "metadata": {
    "collapsed": false
   },
   "outputs": [],
   "source": [
    "#Using relative path for reading the CSV file\n",
    "#Using only those columns that are needed\n",
    "cwd = os.getcwd()\n",
    "data = pd.read_csv(cwd+\"//\"+\"Data//employee_compensation.csv\", usecols=[0,1,9,11,12,13,14,15,16,17,18,19,20,21])"
   ]
  },
  {
   "cell_type": "code",
   "execution_count": 23,
   "metadata": {
    "collapsed": false
   },
   "outputs": [],
   "source": [
    "#Filtering the data by Calendar year\n",
    "calendarData = data[(data['Year Type']=='Calendar')]\n",
    "\n",
    "#Grouping and finding the mean\n",
    "averageSalary = calendarData.groupby(['Year','Job Family','Job','Employee Identifier']).mean()\n",
    "\n",
    "#To create flat index\n",
    "averageSalary = averageSalary.reset_index()\n",
    "\n",
    "# To find people whose overtime is greater than 5% of their salaries \n",
    "overtime = averageSalary[(averageSalary['Overtime'] > (.05 * averageSalary['Salaries']))]"
   ]
  },
  {
   "cell_type": "code",
   "execution_count": 26,
   "metadata": {
    "collapsed": false
   },
   "outputs": [],
   "source": [
    "#Grouping by Job Family and finding the mean\n",
    "averageJobFamily = averageSalary[['Job Family', 'Total Benefits', 'Total Compensation']]\n",
    "averageJobFamily = averageJobFamily.groupby(['Job Family']).mean()"
   ]
  },
  {
   "cell_type": "code",
   "execution_count": 30,
   "metadata": {
    "collapsed": false,
    "scrolled": true
   },
   "outputs": [],
   "source": [
    "#Calculating percentage of total benefits for each Job Family and writing it to a new column\n",
    "averageJobFamily['Percent Total Benefit'] = 100*(averageByJobFamily['Total Benefits'] / averageByJobFamily['Total Compensation'])"
   ]
  },
  {
   "cell_type": "code",
   "execution_count": 29,
   "metadata": {
    "collapsed": false,
    "scrolled": true
   },
   "outputs": [
    {
     "data": {
      "text/html": [
       "<div>\n",
       "<table border=\"1\" class=\"dataframe\">\n",
       "  <thead>\n",
       "    <tr style=\"text-align: right;\">\n",
       "      <th></th>\n",
       "      <th>Total Benefits</th>\n",
       "      <th>Total Compensation</th>\n",
       "      <th>Percent Total Benefit</th>\n",
       "    </tr>\n",
       "    <tr>\n",
       "      <th>Job Family</th>\n",
       "      <th></th>\n",
       "      <th></th>\n",
       "      <th></th>\n",
       "    </tr>\n",
       "  </thead>\n",
       "  <tbody>\n",
       "    <tr>\n",
       "      <th>Public Service Aide</th>\n",
       "      <td>5261.987683</td>\n",
       "      <td>14943.938928</td>\n",
       "      <td>35.211518</td>\n",
       "    </tr>\n",
       "    <tr>\n",
       "      <th>Park &amp; Zoo</th>\n",
       "      <td>17990.227815</td>\n",
       "      <td>54919.043783</td>\n",
       "      <td>32.757722</td>\n",
       "    </tr>\n",
       "    <tr>\n",
       "      <th>Housekeeping &amp; Laundry</th>\n",
       "      <td>24367.969037</td>\n",
       "      <td>74436.429973</td>\n",
       "      <td>32.736617</td>\n",
       "    </tr>\n",
       "    <tr>\n",
       "      <th>Clerical, Secretarial &amp; Steno</th>\n",
       "      <td>21667.344840</td>\n",
       "      <td>66888.891105</td>\n",
       "      <td>32.393039</td>\n",
       "    </tr>\n",
       "    <tr>\n",
       "      <th>Dietary &amp; Food</th>\n",
       "      <td>19673.743314</td>\n",
       "      <td>61537.993465</td>\n",
       "      <td>31.970076</td>\n",
       "    </tr>\n",
       "  </tbody>\n",
       "</table>\n",
       "</div>"
      ],
      "text/plain": [
       "                               Total Benefits  Total Compensation  \\\n",
       "Job Family                                                          \n",
       "Public Service Aide               5261.987683        14943.938928   \n",
       "Park & Zoo                       17990.227815        54919.043783   \n",
       "Housekeeping & Laundry           24367.969037        74436.429973   \n",
       "Clerical, Secretarial & Steno    21667.344840        66888.891105   \n",
       "Dietary & Food                   19673.743314        61537.993465   \n",
       "\n",
       "                               Percent Total Benefit  \n",
       "Job Family                                            \n",
       "Public Service Aide                        35.211518  \n",
       "Park & Zoo                                 32.757722  \n",
       "Housekeeping & Laundry                     32.736617  \n",
       "Clerical, Secretarial & Steno              32.393039  \n",
       "Dietary & Food                             31.970076  "
      ]
     },
     "execution_count": 29,
     "metadata": {},
     "output_type": "execute_result"
    }
   ],
   "source": [
    "#Sorting to get the top 5\n",
    "finalAverage= averageJobFamily.sort_values(['Percent Total Benefit'], ascending=[False])\n",
    "finalAverage.head()"
   ]
  },
  {
   "cell_type": "code",
   "execution_count": 32,
   "metadata": {
    "collapsed": true
   },
   "outputs": [],
   "source": [
    "#Writing the output to a CSV file\n",
    "finalAverage.reset_index()\n",
    "os.chdir(cwd+\"//\"+\"Outputs\")\n",
    "current=os.getcwd()\n",
    "finalAverage.to_csv('Q2_Part_2_Output.csv', index=False , encoding='utf-8')"
   ]
  }
 ],
 "metadata": {
  "anaconda-cloud": {},
  "kernelspec": {
   "display_name": "Python [conda root]",
   "language": "python",
   "name": "conda-root-py"
  },
  "language_info": {
   "codemirror_mode": {
    "name": "ipython",
    "version": 3
   },
   "file_extension": ".py",
   "mimetype": "text/x-python",
   "name": "python",
   "nbconvert_exporter": "python",
   "pygments_lexer": "ipython3",
   "version": "3.5.2"
  }
 },
 "nbformat": 4,
 "nbformat_minor": 1
}
