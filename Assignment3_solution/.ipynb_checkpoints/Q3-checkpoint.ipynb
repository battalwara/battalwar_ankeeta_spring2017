{
 "cells": [
  {
   "cell_type": "markdown",
   "metadata": {},
   "source": [
    "# Questions 3\n",
    "- Use 'cricket_matches.csv'\n",
    "- For each team, check matches they won for either innings 1 or innings 2 for home matches.\n",
    "- Calculate average score for these teams during the siad matches and write it to a CSV"
   ]
  },
  {
   "cell_type": "code",
   "execution_count": 20,
   "metadata": {
    "collapsed": true
   },
   "outputs": [],
   "source": [
    "import os\n",
    "import pandas as pd"
   ]
  },
  {
   "cell_type": "code",
   "execution_count": 22,
   "metadata": {
    "collapsed": false
   },
   "outputs": [
    {
     "data": {
      "text/html": [
       "<div>\n",
       "<table border=\"1\" class=\"dataframe\">\n",
       "  <thead>\n",
       "    <tr style=\"text-align: right;\">\n",
       "      <th></th>\n",
       "      <th>home</th>\n",
       "      <th>away</th>\n",
       "      <th>winner</th>\n",
       "      <th>innings1</th>\n",
       "      <th>innings1_runs</th>\n",
       "      <th>innings2</th>\n",
       "      <th>innings2_runs</th>\n",
       "    </tr>\n",
       "  </thead>\n",
       "  <tbody>\n",
       "    <tr>\n",
       "      <th>0</th>\n",
       "      <td>Durham</td>\n",
       "      <td>Nottinghamshire</td>\n",
       "      <td>Durham</td>\n",
       "      <td>Nottinghamshire</td>\n",
       "      <td>157.0</td>\n",
       "      <td>Durham</td>\n",
       "      <td>160.0</td>\n",
       "    </tr>\n",
       "    <tr>\n",
       "      <th>1</th>\n",
       "      <td>Hampshire</td>\n",
       "      <td>Sussex</td>\n",
       "      <td>Hampshire</td>\n",
       "      <td>Hampshire</td>\n",
       "      <td>153.0</td>\n",
       "      <td>Sussex</td>\n",
       "      <td>148.0</td>\n",
       "    </tr>\n",
       "    <tr>\n",
       "      <th>2</th>\n",
       "      <td>Somerset</td>\n",
       "      <td>Warwickshire</td>\n",
       "      <td>Warwickshire</td>\n",
       "      <td>Warwickshire</td>\n",
       "      <td>188.0</td>\n",
       "      <td>Somerset</td>\n",
       "      <td>169.0</td>\n",
       "    </tr>\n",
       "    <tr>\n",
       "      <th>3</th>\n",
       "      <td>Surrey</td>\n",
       "      <td>Middlesex</td>\n",
       "      <td>Surrey</td>\n",
       "      <td>Middlesex</td>\n",
       "      <td>155.0</td>\n",
       "      <td>Surrey</td>\n",
       "      <td>158.0</td>\n",
       "    </tr>\n",
       "    <tr>\n",
       "      <th>4</th>\n",
       "      <td>Worcestershire</td>\n",
       "      <td>Northamptonshire</td>\n",
       "      <td>Worcestershire</td>\n",
       "      <td>Northamptonshire</td>\n",
       "      <td>150.0</td>\n",
       "      <td>Worcestershire</td>\n",
       "      <td>151.0</td>\n",
       "    </tr>\n",
       "  </tbody>\n",
       "</table>\n",
       "</div>"
      ],
      "text/plain": [
       "             home              away          winner          innings1  \\\n",
       "0          Durham   Nottinghamshire          Durham   Nottinghamshire   \n",
       "1       Hampshire            Sussex       Hampshire         Hampshire   \n",
       "2        Somerset      Warwickshire    Warwickshire      Warwickshire   \n",
       "3          Surrey         Middlesex          Surrey         Middlesex   \n",
       "4  Worcestershire  Northamptonshire  Worcestershire  Northamptonshire   \n",
       "\n",
       "   innings1_runs        innings2  innings2_runs  \n",
       "0          157.0          Durham          160.0  \n",
       "1          153.0          Sussex          148.0  \n",
       "2          188.0        Somerset          169.0  \n",
       "3          155.0          Surrey          158.0  \n",
       "4          150.0  Worcestershire          151.0  "
      ]
     },
     "execution_count": 22,
     "metadata": {},
     "output_type": "execute_result"
    }
   ],
   "source": [
    "#Using relative path for reading the CSV file\n",
    "#Using only those columns that are needed\n",
    "cwd = os.getcwd()\n",
    "data = pd.read_csv(cwd+\"//\"+\"Data//cricket_matches.csv\", usecols=[6,7,8,12,13,17,18])\n",
    "data.head()"
   ]
  },
  {
   "cell_type": "code",
   "execution_count": 23,
   "metadata": {
    "collapsed": true
   },
   "outputs": [],
   "source": [
    "#Sorting data by Home\n",
    "sortedData = data.sort_values(['home'], ascending=True)\n",
    "\n",
    "#Checking for teams that won in either games of innings 1 or innings 2\n",
    "sortedInnings1Data = sortedData[(sortedData['home'] == sortedData['winner']) & (sortedData['winner'] == sortedData['innings1'])]\n",
    "sortedInnings2Data = sortedData[(sortedData['home'] == sortedData['winner']) & (sortedData['winner'] == sortedData['innings2'])]"
   ]
  },
  {
   "cell_type": "code",
   "execution_count": 24,
   "metadata": {
    "collapsed": true
   },
   "outputs": [],
   "source": [
    "#Creating 2 new data frames to hold the data for innings 1 and 2\n",
    "data_innings1 = pd.DataFrame({'home': sortedInnings1Data['home'], 'Runs': sortedInnings1Data['innings1_runs']})\n",
    "data_innings2 = pd.DataFrame({'home': sortedInnings2Data['home'], 'Runs': sortedInnings2Data['innings2_runs']})\n",
    "\n",
    "#Concatenating both data frames to get all teams which won in either innings 1 or 2\n",
    "final_data = data_innings1.append(data_innings2, ignore_index=True)"
   ]
  },
  {
   "cell_type": "code",
   "execution_count": 25,
   "metadata": {
    "collapsed": false
   },
   "outputs": [
    {
     "data": {
      "text/html": [
       "<div>\n",
       "<table border=\"1\" class=\"dataframe\">\n",
       "  <thead>\n",
       "    <tr style=\"text-align: right;\">\n",
       "      <th></th>\n",
       "      <th>Home</th>\n",
       "      <th>Score</th>\n",
       "    </tr>\n",
       "    <tr>\n",
       "      <th>home</th>\n",
       "      <th></th>\n",
       "      <th></th>\n",
       "    </tr>\n",
       "  </thead>\n",
       "  <tbody>\n",
       "    <tr>\n",
       "      <th>Abahani Limited</th>\n",
       "      <td>Abahani Limited</td>\n",
       "      <td>172.000000</td>\n",
       "    </tr>\n",
       "    <tr>\n",
       "      <th>Abbottabad Falcons</th>\n",
       "      <td>Abbottabad Falcons</td>\n",
       "      <td>139.454545</td>\n",
       "    </tr>\n",
       "    <tr>\n",
       "      <th>Abbottabad Region</th>\n",
       "      <td>Abbottabad Region</td>\n",
       "      <td>182.666667</td>\n",
       "    </tr>\n",
       "    <tr>\n",
       "      <th>Abbottabad Rhinos</th>\n",
       "      <td>Abbottabad Rhinos</td>\n",
       "      <td>165.000000</td>\n",
       "    </tr>\n",
       "    <tr>\n",
       "      <th>Adelaide Strikers</th>\n",
       "      <td>Adelaide Strikers</td>\n",
       "      <td>163.111111</td>\n",
       "    </tr>\n",
       "  </tbody>\n",
       "</table>\n",
       "</div>"
      ],
      "text/plain": [
       "                                  Home       Score\n",
       "home                                              \n",
       "Abahani Limited        Abahani Limited  172.000000\n",
       "Abbottabad Falcons  Abbottabad Falcons  139.454545\n",
       "Abbottabad Region    Abbottabad Region  182.666667\n",
       "Abbottabad Rhinos    Abbottabad Rhinos  165.000000\n",
       "Adelaide Strikers    Adelaide Strikers  163.111111"
      ]
     },
     "execution_count": 25,
     "metadata": {},
     "output_type": "execute_result"
    }
   ],
   "source": [
    "#Calculating average of runs for each team which hosts the game (=home)\n",
    "averageRuns = final_data['Runs'].groupby(final_data['home']).mean()\n",
    "finalScore = pd.DataFrame({'Home' : averageRuns.index, 'Score' : averageRuns})\n",
    "finalScore.head()"
   ]
  },
  {
   "cell_type": "code",
   "execution_count": 26,
   "metadata": {
    "collapsed": false
   },
   "outputs": [],
   "source": [
    "#Writing the output to a CSV file in the folder- Outputs\n",
    "os.chdir(cwd+\"//\"+\"Outputs\")\n",
    "current=os.getcwd()\n",
    "averageRuns.to_csv('Q3_Output.csv', index=False , encoding='utf-8')"
   ]
  }
 ],
 "metadata": {
  "anaconda-cloud": {},
  "kernelspec": {
   "display_name": "Python [conda root]",
   "language": "python",
   "name": "conda-root-py"
  },
  "language_info": {
   "codemirror_mode": {
    "name": "ipython",
    "version": 3
   },
   "file_extension": ".py",
   "mimetype": "text/x-python",
   "name": "python",
   "nbconvert_exporter": "python",
   "pygments_lexer": "ipython3",
   "version": "3.5.2"
  }
 },
 "nbformat": 4,
 "nbformat_minor": 1
}
