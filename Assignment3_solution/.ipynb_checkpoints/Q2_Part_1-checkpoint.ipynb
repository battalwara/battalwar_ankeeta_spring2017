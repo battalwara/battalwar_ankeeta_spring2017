{
 "cells": [
  {
   "cell_type": "markdown",
   "metadata": {},
   "source": [
    "# Question 2 Part 1\n",
    "- Use 'employee_compensation.csv'\n",
    "- Calculate mean of total compensation for every department in each organization\n",
    "- From this, get highest to lowest paid department and save it to a CSV file."
   ]
  },
  {
   "cell_type": "code",
   "execution_count": 1,
   "metadata": {
    "collapsed": true
   },
   "outputs": [],
   "source": [
    "import os\n",
    "import pandas as pd"
   ]
  },
  {
   "cell_type": "code",
   "execution_count": 11,
   "metadata": {
    "collapsed": false
   },
   "outputs": [
    {
     "data": {
      "text/html": [
       "<div>\n",
       "<table border=\"1\" class=\"dataframe\">\n",
       "  <thead>\n",
       "    <tr style=\"text-align: right;\">\n",
       "      <th></th>\n",
       "      <th>Organization Group</th>\n",
       "      <th>Department</th>\n",
       "      <th>Total Compensation</th>\n",
       "    </tr>\n",
       "  </thead>\n",
       "  <tbody>\n",
       "    <tr>\n",
       "      <th>0</th>\n",
       "      <td>Public Works, Transportation &amp; Commerce</td>\n",
       "      <td>Airport Commission</td>\n",
       "      <td>143916.66</td>\n",
       "    </tr>\n",
       "    <tr>\n",
       "      <th>1</th>\n",
       "      <td>Community Health</td>\n",
       "      <td>Public Health</td>\n",
       "      <td>107914.16</td>\n",
       "    </tr>\n",
       "    <tr>\n",
       "      <th>2</th>\n",
       "      <td>Human Welfare &amp; Neighborhood Development</td>\n",
       "      <td>Department of the Status of Women</td>\n",
       "      <td>267.28</td>\n",
       "    </tr>\n",
       "    <tr>\n",
       "      <th>3</th>\n",
       "      <td>General Administration &amp; Finance</td>\n",
       "      <td>Human Resources</td>\n",
       "      <td>2519.13</td>\n",
       "    </tr>\n",
       "    <tr>\n",
       "      <th>4</th>\n",
       "      <td>Culture &amp; Recreation</td>\n",
       "      <td>Recreation and Park Commission</td>\n",
       "      <td>1726.68</td>\n",
       "    </tr>\n",
       "  </tbody>\n",
       "</table>\n",
       "</div>"
      ],
      "text/plain": [
       "                         Organization Group  \\\n",
       "0   Public Works, Transportation & Commerce   \n",
       "1                          Community Health   \n",
       "2  Human Welfare & Neighborhood Development   \n",
       "3          General Administration & Finance   \n",
       "4                      Culture & Recreation   \n",
       "\n",
       "                          Department  Total Compensation  \n",
       "0                 Airport Commission           143916.66  \n",
       "1                      Public Health           107914.16  \n",
       "2  Department of the Status of Women              267.28  \n",
       "3                    Human Resources             2519.13  \n",
       "4     Recreation and Park Commission             1726.68  "
      ]
     },
     "execution_count": 11,
     "metadata": {},
     "output_type": "execute_result"
    }
   ],
   "source": [
    "#Using relative path for reading the CSV file\n",
    "#Using only those columns that are needed\n",
    "cwd = os.getcwd()\n",
    "data = pd.read_csv(cwd+\"//\"+\"Data//employee_compensation.csv\", usecols=[3,5,21])\n",
    "data.head()"
   ]
  },
  {
   "cell_type": "code",
   "execution_count": 19,
   "metadata": {
    "collapsed": false,
    "scrolled": true
   },
   "outputs": [
    {
     "data": {
      "text/html": [
       "<div>\n",
       "<table border=\"1\" class=\"dataframe\">\n",
       "  <thead>\n",
       "    <tr style=\"text-align: right;\">\n",
       "      <th></th>\n",
       "      <th>Organization Group</th>\n",
       "      <th>Department</th>\n",
       "      <th>Total Compensation</th>\n",
       "    </tr>\n",
       "  </thead>\n",
       "  <tbody>\n",
       "    <tr>\n",
       "      <th>0</th>\n",
       "      <td>Community Health</td>\n",
       "      <td>Public Health</td>\n",
       "      <td>96190.190140</td>\n",
       "    </tr>\n",
       "    <tr>\n",
       "      <th>5</th>\n",
       "      <td>Culture &amp; Recreation</td>\n",
       "      <td>Law Library</td>\n",
       "      <td>188424.362222</td>\n",
       "    </tr>\n",
       "    <tr>\n",
       "      <th>1</th>\n",
       "      <td>Culture &amp; Recreation</td>\n",
       "      <td>Academy of Sciences</td>\n",
       "      <td>107319.727692</td>\n",
       "    </tr>\n",
       "    <tr>\n",
       "      <th>2</th>\n",
       "      <td>Culture &amp; Recreation</td>\n",
       "      <td>Arts Commission</td>\n",
       "      <td>94339.597388</td>\n",
       "    </tr>\n",
       "    <tr>\n",
       "      <th>8</th>\n",
       "      <td>Culture &amp; Recreation</td>\n",
       "      <td>War Memorial</td>\n",
       "      <td>76250.068022</td>\n",
       "    </tr>\n",
       "  </tbody>\n",
       "</table>\n",
       "</div>"
      ],
      "text/plain": [
       "     Organization Group           Department  Total Compensation\n",
       "0      Community Health        Public Health        96190.190140\n",
       "5  Culture & Recreation          Law Library       188424.362222\n",
       "1  Culture & Recreation  Academy of Sciences       107319.727692\n",
       "2  Culture & Recreation      Arts Commission        94339.597388\n",
       "8  Culture & Recreation         War Memorial        76250.068022"
      ]
     },
     "execution_count": 19,
     "metadata": {},
     "output_type": "execute_result"
    }
   ],
   "source": [
    "#Calculating mean of total compensation for every department\n",
    "#Grouping by the Organization group and Department and then getting the mean value\n",
    "compensation = data.groupby(['Organization Group','Department']).mean()\n",
    "\n",
    "#To create flat index\n",
    "compensation = compensation.reset_index()\n",
    "\n",
    "compensationFinal = compensation.sort_values(['Organization Group','Total Compensation'],ascending = [True, False])\n",
    "compensationFinal.head()"
   ]
  },
  {
   "cell_type": "code",
   "execution_count": 18,
   "metadata": {
    "collapsed": false
   },
   "outputs": [],
   "source": [
    "#Writing the output to a CSV file in the folder- Outputs\n",
    "os.chdir(cwd+\"//\"+\"Outputs\")\n",
    "current=os.getcwd()\n",
    "compensationFinal.to_csv('Q2_Part_1_Output.csv', index=False , encoding='utf-8')"
   ]
  }
 ],
 "metadata": {
  "anaconda-cloud": {},
  "kernelspec": {
   "display_name": "Python [conda root]",
   "language": "python",
   "name": "conda-root-py"
  },
  "language_info": {
   "codemirror_mode": {
    "name": "ipython",
    "version": 3
   },
   "file_extension": ".py",
   "mimetype": "text/x-python",
   "name": "python",
   "nbconvert_exporter": "python",
   "pygments_lexer": "ipython3",
   "version": "3.5.2"
  }
 },
 "nbformat": 4,
 "nbformat_minor": 1
}
