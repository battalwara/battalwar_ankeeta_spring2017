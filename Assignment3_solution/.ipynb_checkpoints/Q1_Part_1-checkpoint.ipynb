{
 "cells": [
  {
   "cell_type": "markdown",
   "metadata": {},
   "source": [
    "# Question 1 Part 1\n",
    "- Use 'vehicle_collisions.csv'\n",
    "- For every month of year 2016, find out accidents in just the borough Manhattan as well as in NYC\n",
    "- Calculate percentage of accidents in manhattan to total accidents in NYC\n",
    "- Write it to a CSV file with 4 columns: Month, Manhattan, NYC, Percentage"
   ]
  },
  {
   "cell_type": "code",
   "execution_count": 4,
   "metadata": {
    "collapsed": true
   },
   "outputs": [],
   "source": [
    "import os\n",
    "import pandas as pd"
   ]
  },
  {
   "cell_type": "code",
   "execution_count": 5,
   "metadata": {
    "collapsed": false
   },
   "outputs": [
    {
     "data": {
      "text/html": [
       "<div>\n",
       "<table border=\"1\" class=\"dataframe\">\n",
       "  <thead>\n",
       "    <tr style=\"text-align: right;\">\n",
       "      <th></th>\n",
       "      <th>UNIQUE KEY</th>\n",
       "      <th>DATE</th>\n",
       "      <th>BOROUGH</th>\n",
       "    </tr>\n",
       "  </thead>\n",
       "  <tbody>\n",
       "    <tr>\n",
       "      <th>0</th>\n",
       "      <td>3146911</td>\n",
       "      <td>2015-01-01</td>\n",
       "      <td>QUEENS</td>\n",
       "    </tr>\n",
       "    <tr>\n",
       "      <th>1</th>\n",
       "      <td>3146180</td>\n",
       "      <td>2015-01-01</td>\n",
       "      <td>NaN</td>\n",
       "    </tr>\n",
       "    <tr>\n",
       "      <th>2</th>\n",
       "      <td>3146384</td>\n",
       "      <td>2015-01-01</td>\n",
       "      <td>BROOKLYN</td>\n",
       "    </tr>\n",
       "    <tr>\n",
       "      <th>3</th>\n",
       "      <td>3146013</td>\n",
       "      <td>2015-01-01</td>\n",
       "      <td>BROOKLYN</td>\n",
       "    </tr>\n",
       "    <tr>\n",
       "      <th>4</th>\n",
       "      <td>3146120</td>\n",
       "      <td>2015-01-01</td>\n",
       "      <td>NaN</td>\n",
       "    </tr>\n",
       "  </tbody>\n",
       "</table>\n",
       "</div>"
      ],
      "text/plain": [
       "   UNIQUE KEY       DATE   BOROUGH\n",
       "0     3146911 2015-01-01    QUEENS\n",
       "1     3146180 2015-01-01       NaN\n",
       "2     3146384 2015-01-01  BROOKLYN\n",
       "3     3146013 2015-01-01  BROOKLYN\n",
       "4     3146120 2015-01-01       NaN"
      ]
     },
     "execution_count": 5,
     "metadata": {},
     "output_type": "execute_result"
    }
   ],
   "source": [
    "#Using relative path for reading the CSV file\n",
    "#Using only those columns that are needed\n",
    "cwd = os.getcwd()\n",
    "data = pd.read_csv(cwd+\"//\"+\"Data//vehicle_collisions.csv\", parse_dates=['DATE'], usecols=[0,1,3])\n",
    "data.head()"
   ]
  },
  {
   "cell_type": "code",
   "execution_count": 30,
   "metadata": {
    "collapsed": false
   },
   "outputs": [],
   "source": [
    "#Filtering out the data only for the year of 2016\n",
    "data_2016 = data[data.DATE.dt.year == 2016]\n",
    "\n",
    "# Offsetting the warning that python gnerates\n",
    "pd.options.mode.chained_assignment = None\n",
    "\n",
    "# Extract month for each date in the dataframe containing 2016 data\n",
    "data_2016['Month'] = data_2016['DATE'].dt.strftime('%b')"
   ]
  },
  {
   "cell_type": "code",
   "execution_count": 25,
   "metadata": {
    "collapsed": false
   },
   "outputs": [],
   "source": [
    "#Grouping the data by the months in which the accidents occured\n",
    "NYCdata = data_2016['UNIQUE KEY'].groupby(data_2016['Month']).count()\n",
    "\n",
    "#Sorting result according to the months\n",
    "NYCdata.index = pd.CategoricalIndex(NYCdata.index, \n",
    "                               categories=['Jan', 'Feb', 'Mar', 'Apr','May','Jun', 'Jul', 'Aug','Sep', 'Oct', 'Nov', 'Dec'], \n",
    "                               sorted=True)\n",
    "NYCdata = NYCdata.sort_index()\n"
   ]
  },
  {
   "cell_type": "code",
   "execution_count": 26,
   "metadata": {
    "collapsed": true
   },
   "outputs": [],
   "source": [
    "#Now, grouping data by months and counting accidents only in Manhattan\n",
    "ManhattanData = data_2016['UNIQUE KEY'][data_2016['BOROUGH'] == \"MANHATTAN\"].groupby(data_2016['Month']).count()\n",
    "\n",
    "#Sorting result according to the months\n",
    "ManhattanData.index = pd.CategoricalIndex(ManhattanData.index, \n",
    "                               categories=['Jan', 'Feb', 'Mar', 'Apr','May','Jun', 'Jul', 'Aug','Sep', 'Oct', 'Nov', 'Dec'], \n",
    "                               sorted=True)\n",
    "ManhattanData = ManhattanData.sort_index()"
   ]
  },
  {
   "cell_type": "code",
   "execution_count": 28,
   "metadata": {
    "collapsed": false
   },
   "outputs": [
    {
     "data": {
      "text/html": [
       "<div>\n",
       "<table border=\"1\" class=\"dataframe\">\n",
       "  <thead>\n",
       "    <tr style=\"text-align: right;\">\n",
       "      <th></th>\n",
       "      <th>Month</th>\n",
       "      <th>Manhattan</th>\n",
       "      <th>NYC</th>\n",
       "      <th>Percentage</th>\n",
       "    </tr>\n",
       "    <tr>\n",
       "      <th>Month</th>\n",
       "      <th></th>\n",
       "      <th></th>\n",
       "      <th></th>\n",
       "      <th></th>\n",
       "    </tr>\n",
       "  </thead>\n",
       "  <tbody>\n",
       "    <tr>\n",
       "      <th>Jan</th>\n",
       "      <td>Jan</td>\n",
       "      <td>3178</td>\n",
       "      <td>18101</td>\n",
       "      <td>0.175570</td>\n",
       "    </tr>\n",
       "    <tr>\n",
       "      <th>Feb</th>\n",
       "      <td>Feb</td>\n",
       "      <td>3195</td>\n",
       "      <td>15985</td>\n",
       "      <td>0.199875</td>\n",
       "    </tr>\n",
       "    <tr>\n",
       "      <th>Mar</th>\n",
       "      <td>Mar</td>\n",
       "      <td>3479</td>\n",
       "      <td>18471</td>\n",
       "      <td>0.188349</td>\n",
       "    </tr>\n",
       "    <tr>\n",
       "      <th>Apr</th>\n",
       "      <td>Apr</td>\n",
       "      <td>3540</td>\n",
       "      <td>18331</td>\n",
       "      <td>0.193115</td>\n",
       "    </tr>\n",
       "    <tr>\n",
       "      <th>May</th>\n",
       "      <td>May</td>\n",
       "      <td>3432</td>\n",
       "      <td>20052</td>\n",
       "      <td>0.171155</td>\n",
       "    </tr>\n",
       "  </tbody>\n",
       "</table>\n",
       "</div>"
      ],
      "text/plain": [
       "      Month  Manhattan    NYC  Percentage\n",
       "Month                                    \n",
       "Jan     Jan       3178  18101    0.175570\n",
       "Feb     Feb       3195  15985    0.199875\n",
       "Mar     Mar       3479  18471    0.188349\n",
       "Apr     Apr       3540  18331    0.193115\n",
       "May     May       3432  20052    0.171155"
      ]
     },
     "execution_count": 28,
     "metadata": {},
     "output_type": "execute_result"
    }
   ],
   "source": [
    "# Creating a new data frame with both NYC and Manhattan data\n",
    "Columns = [\"Month\",\"Manhattan\", \"NYC\", \"Percentage\"]\n",
    "dataFrame = pd.DataFrame({'Month' :NYCdata.index, 'Manhattan' :ManhattanData, 'NYC' :NYCdata, 'Percentage' :ManhattanData/NYCdata})\n",
    "finalResult[Columns].head()"
   ]
  },
  {
   "cell_type": "code",
   "execution_count": 29,
   "metadata": {
    "collapsed": true
   },
   "outputs": [],
   "source": [
    "#Writing the output to a CSV file in the folder- Outputs\n",
    "os.chdir(cwd+\"//\"+\"Outputs\")\n",
    "current=os.getcwd()\n",
    "finalResult.to_csv('Q1_Part_1_Output.csv', index=False , encoding='utf-8')"
   ]
  }
 ],
 "metadata": {
  "anaconda-cloud": {},
  "kernelspec": {
   "display_name": "Python [conda root]",
   "language": "python",
   "name": "conda-root-py"
  },
  "language_info": {
   "codemirror_mode": {
    "name": "ipython",
    "version": 3
   },
   "file_extension": ".py",
   "mimetype": "text/x-python",
   "name": "python",
   "nbconvert_exporter": "python",
   "pygments_lexer": "ipython3",
   "version": "3.5.2"
  }
 },
 "nbformat": 4,
 "nbformat_minor": 1
}
