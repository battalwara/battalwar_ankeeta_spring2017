{
 "cells": [
  {
   "cell_type": "markdown",
   "metadata": {},
   "source": [
    "# Question 6\n",
    "-Under Inaugural Address package\n",
    "-For every president, find out how many unique words they used in speech. \n",
    "-We will just assume that President Bush means one person (technically it is incorrect but we will ignore it)\n"
   ]
  },
  {
   "cell_type": "code",
   "execution_count": 6,
   "metadata": {
    "collapsed": false
   },
   "outputs": [],
   "source": [
    "import nltk\n",
    "from nltk.corpus import inaugural as ina"
   ]
  },
  {
   "cell_type": "code",
   "execution_count": 10,
   "metadata": {
    "collapsed": false
   },
   "outputs": [
    {
     "name": "stdout",
     "output_type": "stream",
     "text": [
      "1789-Washington.txt : This speech file has  628 unique words.\n",
      "1793-Washington.txt : This speech file has  96 unique words.\n",
      "1797-Adams.txt : This speech file has  828 unique words.\n",
      "1801-Jefferson.txt : This speech file has  717 unique words.\n",
      "1805-Jefferson.txt : This speech file has  806 unique words.\n",
      "1809-Madison.txt : This speech file has  537 unique words.\n",
      "1813-Madison.txt : This speech file has  542 unique words.\n",
      "1817-Monroe.txt : This speech file has  1041 unique words.\n",
      "1821-Monroe.txt : This speech file has  1265 unique words.\n",
      "1825-Adams.txt : This speech file has  1007 unique words.\n",
      "1829-Jackson.txt : This speech file has  517 unique words.\n",
      "1833-Jackson.txt : This speech file has  502 unique words.\n",
      "1837-VanBuren.txt : This speech file has  1318 unique words.\n",
      "1841-Harrison.txt : This speech file has  1893 unique words.\n",
      "1845-Polk.txt : This speech file has  1333 unique words.\n",
      "1849-Taylor.txt : This speech file has  499 unique words.\n",
      "1853-Pierce.txt : This speech file has  1168 unique words.\n",
      "1857-Buchanan.txt : This speech file has  948 unique words.\n",
      "1861-Lincoln.txt : This speech file has  1078 unique words.\n",
      "1865-Lincoln.txt : This speech file has  363 unique words.\n",
      "1869-Grant.txt : This speech file has  489 unique words.\n",
      "1873-Grant.txt : This speech file has  553 unique words.\n",
      "1877-Hayes.txt : This speech file has  832 unique words.\n",
      "1881-Garfield.txt : This speech file has  1022 unique words.\n",
      "1885-Cleveland.txt : This speech file has  676 unique words.\n",
      "1889-Harrison.txt : This speech file has  1358 unique words.\n",
      "1893-Cleveland.txt : This speech file has  820 unique words.\n",
      "1897-McKinley.txt : This speech file has  1239 unique words.\n",
      "1901-McKinley.txt : This speech file has  860 unique words.\n",
      "1905-Roosevelt.txt : This speech file has  405 unique words.\n",
      "1909-Taft.txt : This speech file has  1439 unique words.\n",
      "1913-Wilson.txt : This speech file has  661 unique words.\n",
      "1917-Wilson.txt : This speech file has  549 unique words.\n",
      "1921-Harding.txt : This speech file has  1170 unique words.\n",
      "1925-Coolidge.txt : This speech file has  1221 unique words.\n",
      "1929-Hoover.txt : This speech file has  1087 unique words.\n",
      "1933-Roosevelt.txt : This speech file has  746 unique words.\n",
      "1937-Roosevelt.txt : This speech file has  732 unique words.\n",
      "1941-Roosevelt.txt : This speech file has  527 unique words.\n",
      "1945-Roosevelt.txt : This speech file has  280 unique words.\n",
      "1949-Truman.txt : This speech file has  781 unique words.\n",
      "1953-Eisenhower.txt : This speech file has  899 unique words.\n",
      "1957-Eisenhower.txt : This speech file has  622 unique words.\n",
      "1961-Kennedy.txt : This speech file has  570 unique words.\n",
      "1965-Johnson.txt : This speech file has  571 unique words.\n",
      "1969-Nixon.txt : This speech file has  743 unique words.\n",
      "1973-Nixon.txt : This speech file has  545 unique words.\n",
      "1977-Carter.txt : This speech file has  529 unique words.\n",
      "1981-Reagan.txt : This speech file has  907 unique words.\n",
      "1985-Reagan.txt : This speech file has  924 unique words.\n",
      "1989-Bush.txt : This speech file has  793 unique words.\n",
      "1993-Clinton.txt : This speech file has  643 unique words.\n",
      "1997-Clinton.txt : This speech file has  774 unique words.\n",
      "2001-Bush.txt : This speech file has  622 unique words.\n",
      "2005-Bush.txt : This speech file has  783 unique words.\n",
      "2009-Obama.txt : This speech file has  938 unique words.\n"
     ]
    }
   ],
   "source": [
    "for file in ina.fileids():\n",
    "    words=ina.words(file)\n",
    "    unique=[]\n",
    "    for word in words:\n",
    "        if word not in unique:\n",
    "            unique.append(word)\n",
    "    print(file, \": This speech file has \", len(unique), \"unique words.\")"
   ]
  },
  {
   "cell_type": "code",
   "execution_count": null,
   "metadata": {
    "collapsed": true
   },
   "outputs": [],
   "source": []
  }
 ],
 "metadata": {
  "kernelspec": {
   "display_name": "Python [conda root]",
   "language": "python",
   "name": "conda-root-py"
  },
  "language_info": {
   "codemirror_mode": {
    "name": "ipython",
    "version": 3
   },
   "file_extension": ".py",
   "mimetype": "text/x-python",
   "name": "python",
   "nbconvert_exporter": "python",
   "pygments_lexer": "ipython3",
   "version": "3.5.2"
  }
 },
 "nbformat": 4,
 "nbformat_minor": 1
}
