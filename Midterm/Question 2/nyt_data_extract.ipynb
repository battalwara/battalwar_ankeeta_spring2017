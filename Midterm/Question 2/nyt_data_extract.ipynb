{
 "cells": [
  {
   "cell_type": "code",
   "execution_count": 9,
   "metadata": {
    "collapsed": false
   },
   "outputs": [],
   "source": [
    "import os\n",
    "import time\n",
    "import urllib\n",
    "import json\n",
    "import pprint\n",
    "import requests\n",
    "\n",
    "api_key= os.getenv(\"article_key\")\n",
    "response_format='.json'\n",
    "url='http://api.nytimes.com/svc/search/v2/articlesearch'+response_format\n",
    "api_key='e4cf7fbf39c84b8bbcf68a35059fb77b'\n",
    "begin_date='20140101'\n",
    "end_date='20150101'\n",
    "sort = 'newest'\n",
    "fq='Clinton'\n",
    "\n",
    "for i in range(1, 120):                                                                                     \n",
    "    j=str(i)\n",
    "    query_params={'fq' : fq,\n",
    "                  'begin_date': begin_date,\n",
    "                  'end_date': end_date,\n",
    "                  'sort': sort,\n",
    "                  'page' : j,\n",
    "                  'api-key': api_key\n",
    "     }\n",
    "    request=requests.get(url, params=query_params)\n",
    "    data=request.json()\n",
    "    time.sleep(5)\n",
    "    #pprint(data)\n",
    "    with open(\"ClintonData\\ClintonOld\"+j+\".json\", 'w') as outfile:\n",
    "        json.dump(data, outfile)"
   ]
  },
  {
   "cell_type": "code",
   "execution_count": 4,
   "metadata": {
    "collapsed": false
   },
   "outputs": [],
   "source": [
    "import requests\n",
    "from pprint import pprint\n",
    "import time\n",
    "api_key='e4cf7fbf39c84b8bbcf68a35059fb77b'\n",
    "request = requests.get(\"http://api.nytimes.com/svc/archive/v1/2016/12.json?api-key=\"+api_key) \n",
    "data = request.json()\n",
    "time.sleep(5)\n",
    "with open(\"ArchiveData\\Archive_December2016.json\", 'w') as outfile:\n",
    "    json.dump(data, outfile)                        "
   ]
  },
  {
   "cell_type": "code",
   "execution_count": null,
   "metadata": {
    "collapsed": true
   },
   "outputs": [],
   "source": []
  }
 ],
 "metadata": {
  "anaconda-cloud": {},
  "kernelspec": {
   "display_name": "Python [conda root]",
   "language": "python",
   "name": "conda-root-py"
  },
  "language_info": {
   "codemirror_mode": {
    "name": "ipython",
    "version": 3
   },
   "file_extension": ".py",
   "mimetype": "text/x-python",
   "name": "python",
   "nbconvert_exporter": "python",
   "pygments_lexer": "ipython3",
   "version": "3.5.2"
  }
 },
 "nbformat": 4,
 "nbformat_minor": 1
}
