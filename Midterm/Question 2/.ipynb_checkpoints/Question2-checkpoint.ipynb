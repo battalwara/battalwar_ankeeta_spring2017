{
 "cells": [
  {
   "cell_type": "code",
   "execution_count": 5,
   "metadata": {
    "collapsed": false
   },
   "outputs": [],
   "source": [
    "import os\n",
    "import json\n",
    "import time\n",
    "nyt_key=\"\"\n",
    "nyt_key = os.getenv('nyt_article_key')\n",
    "\n",
    "for i in range(0, 100):\n",
    "    j=str(i)\n",
    "    request = requests.get(\"http://api.nytimes.com/svc/search/v2/articlesearch.json?q=trump&page=120&api-key=0760b8cdcc094113afbb75edd84fd8f5\")\n",
    "    data = request.json()\n",
    "    time.sleep(5)\n",
    "    pprint(data)\n",
    "    with open(\"data/dataFeed.json\", 'w') as outfile:\n",
    "    json.dump(data, outfile)"
   ]
  },
  {
   "cell_type": "code",
   "execution_count": 22,
   "metadata": {
    "collapsed": false
   },
   "outputs": [],
   "source": [
    "import urllib\n",
    "import json\n",
    "import pprint\n",
    "import requests\n",
    "response_format='.json'\n",
    "url='http://api.nytimes.com/svc/search/v2/articlesearch'+response_format\n",
    "api_key='0760b8cdcc094113afbb75edd84fd8f5'\n",
    "begin_date='20000101'\n",
    "end_date='20150101'\n",
    "sort = 'newest'\n",
    "page=1\n",
    "\n",
    "query_params={'begin_date': begin_date,\n",
    "              'end_date': end_date,\n",
    "              'sort': sort,\n",
    "              'page' : page,\n",
    "              'api-key': api_key\n",
    "     }\n",
    "\n",
    "for i in range(0, 10):\n",
    "    j=str(i)\n",
    "    request=requests.get(url, params=query_params)\n",
    "    data=request.json()\n",
    "    #pprint(data)\n",
    "    with open(\"data/dataFeed2.json\", 'w') as outfile:\n",
    "        json.dump(data, outfile)"
   ]
  },
  {
   "cell_type": "code",
   "execution_count": null,
   "metadata": {
    "collapsed": true
   },
   "outputs": [],
   "source": []
  }
 ],
 "metadata": {
  "anaconda-cloud": {},
  "kernelspec": {
   "display_name": "Python [conda root]",
   "language": "python",
   "name": "conda-root-py"
  },
  "language_info": {
   "codemirror_mode": {
    "name": "ipython",
    "version": 3
   },
   "file_extension": ".py",
   "mimetype": "text/x-python",
   "name": "python",
   "nbconvert_exporter": "python",
   "pygments_lexer": "ipython3",
   "version": "3.5.2"
  }
 },
 "nbformat": 4,
 "nbformat_minor": 1
}
