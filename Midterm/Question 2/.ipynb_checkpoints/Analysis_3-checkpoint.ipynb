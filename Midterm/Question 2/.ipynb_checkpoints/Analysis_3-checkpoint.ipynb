{
 "cells": [
  {
   "cell_type": "markdown",
   "metadata": {},
   "source": [
    "# Analysis 3\n",
    "\n",
    "- Using the Archive API data, I have calculated the top 10 frequent sections of news headlines for the available year-months.\n",
    "- This analysis helps us to know which wre the top news section trends for the following three months in the year of 2016: \n",
    "    October, November and December\n",
    "- I've used matplotlib to build a pie chart to show the top 10 sections of articles for October."
   ]
  },
  {
   "cell_type": "code",
   "execution_count": 2,
   "metadata": {
    "collapsed": true
   },
   "outputs": [],
   "source": [
    "from glob import glob                                       \n",
    "import json\n",
    "from collections import Counter\n",
    "\n",
    "year_month=[]\n",
    "\n",
    "sections_10_2016 = {}; \n",
    "sections_11_2016 = {}; \n",
    "sections_12_2016 = {};"
   ]
  },
  {
   "cell_type": "code",
   "execution_count": 3,
   "metadata": {
    "collapsed": false
   },
   "outputs": [
    {
     "name": "stdout",
     "output_type": "stream",
     "text": [
      "We have archived data for the following year-months:\n",
      "['2016-12', '2016-11', '2016-10']\n"
     ]
    }
   ],
   "source": [
    "for filename in glob('ArchiveData/*.json'):                 \n",
    "    with open(filename) as file:                                \n",
    "        data = json.load(file)                             \n",
    "        response=data['response']                 \n",
    "        docs=response['docs']                      \n",
    "        for doc in docs:                                \n",
    "            if doc['pub_date'][:7] not in year_month:\n",
    "                year_month.append(doc['pub_date'][:7])\n",
    "print(\"We have archived data for the following year-months:\")            \n",
    "print(year_month)"
   ]
  },
  {
   "cell_type": "code",
   "execution_count": 4,
   "metadata": {
    "collapsed": false
   },
   "outputs": [],
   "source": [
    "for filename in glob('ArchiveData/*.json'):                 \n",
    "    with open(filename) as file:                               \n",
    "        data = json.load(file)                             \n",
    "        response=data['response']                  \n",
    "        docs=response['docs']                      \n",
    "        for doc in docs:                                \n",
    "            if doc['pub_date'][:7]=='2016-10':\n",
    "                if doc['section_name'] not in sections_10_2016:  \n",
    "                    sections_10_2016[doc['section_name']]=1\n",
    "                else:\n",
    "                     sections_10_2016[doc['section_name']]+=1\n",
    "            if doc['pub_date'][:7]=='2016-11':\n",
    "                if doc['section_name'] not in sections_11_2016:  \n",
    "                    sections_11_2016[doc['section_name']]=1\n",
    "                else:\n",
    "                     sections_11_2016[doc['section_name']]+=1\n",
    "            if doc['pub_date'][:7]=='2016-12':\n",
    "                if doc['section_name'] not in sections_12_2016:  \n",
    "                    sections_12_2016[doc['section_name']]=1\n",
    "                else:\n",
    "                     sections_12_2016[doc['section_name']]+=1"
   ]
  },
  {
   "cell_type": "code",
   "execution_count": 8,
   "metadata": {
    "collapsed": false
   },
   "outputs": [
    {
     "name": "stdout",
     "output_type": "stream",
     "text": [
      "Top 10 sections in October-2016 are:\n",
      "[('Opinion', 657), ('U.S.', 652), ('World', 564), ('Arts', 508), ('Sports', 477), ('Business Day', 433), ('Fashion & Style', 366), ('N.Y. / Region', 308), ('Books', 182), ('Movies', 139)]\n"
     ]
    }
   ],
   "source": [
    "print(\"Top 10 sections in October-2016 are:\")\n",
    "print(Counter(sections_10_2016).most_common(10))\n",
    "sorted_count_oct=[]\n",
    "sorted_count_oct.append(Counter(sections_10_2016).most_common(10))"
   ]
  },
  {
   "cell_type": "code",
   "execution_count": 7,
   "metadata": {
    "collapsed": false
   },
   "outputs": [
    {
     "name": "stdout",
     "output_type": "stream",
     "text": [
      "Top 10 sections in November-2016 are:\n",
      "[('U.S.', 624), ('Opinion', 616), ('World', 516), ('Arts', 446), ('Business Day', 394), ('Sports', 369), ('N.Y. / Region', 306), ('Fashion & Style', 264), ('Books', 184), ('Movies', 139)]\n"
     ]
    }
   ],
   "source": [
    "print(\"Top 10 sections in November-2016 are:\")\n",
    "print(Counter(sections_11_2016).most_common(10))\n",
    "sorted_count_nov=[]\n",
    "sorted_count_nov.append(Counter(sections_11_2016).most_common(10))"
   ]
  },
  {
   "cell_type": "code",
   "execution_count": 9,
   "metadata": {
    "collapsed": false
   },
   "outputs": [
    {
     "name": "stdout",
     "output_type": "stream",
     "text": [
      "Top 10 sections in December-2016 are:\n",
      "[('World', 592), ('Opinion', 588), ('U.S.', 455), ('Arts', 431), ('Sports', 385), ('Business Day', 380), ('N.Y. / Region', 347), ('Fashion & Style', 209), ('Books', 170), ('Movies', 155)]\n"
     ]
    }
   ],
   "source": [
    "print(\"Top 10 sections in December-2016 are:\")\n",
    "print(Counter(sections_12_2016).most_common(10))\n",
    "sorted_count_dec=[]\n",
    "sorted_count_dec.append(Counter(sections_12_2016).most_common(10))"
   ]
  },
  {
   "cell_type": "code",
   "execution_count": 34,
   "metadata": {
    "collapsed": false,
    "scrolled": true
   },
   "outputs": [
    {
     "data": {
      "image/png": "[encoded data removed]",
      "text/plain": [
       "<matplotlib.figure.Figure at 0x20fc1b19f60>"
      ]
     },
     "metadata": {},
     "output_type": "display_data"
    }
   ],
   "source": [
    "# Plotting a pie chart with the top 10 categories for October:\n",
    "import matplotlib.pyplot as plot\n",
    "labels=[]\n",
    "sizes=[]\n",
    "colors = ['red','yellow','blue','green','purple','cyan','limegreen','lightskyblue','yellowgreen', 'lightcoral']\n",
    "\n",
    "for item in sorted_count_oct:\n",
    "    for i in item:\n",
    "        labels.append(i[0])\n",
    "        sizes.append(i[1])\n",
    "        \n",
    "plot.title('Top sections for October 2016',y=1.18)\n",
    "plot.pie(sizes,colors=colors,labels=labels,radius=1.0)\n",
    "plot.axis('equal')\n",
    "plot.show()\n"
   ]
  },
  {
   "cell_type": "code",
   "execution_count": null,
   "metadata": {
    "collapsed": true
   },
   "outputs": [],
   "source": []
  }
 ],
 "metadata": {
  "anaconda-cloud": {},
  "kernelspec": {
   "display_name": "Python [conda root]",
   "language": "python",
   "name": "conda-root-py"
  },
  "language_info": {
   "codemirror_mode": {
    "name": "ipython",
    "version": 3
   },
   "file_extension": ".py",
   "mimetype": "text/x-python",
   "name": "python",
   "nbconvert_exporter": "python",
   "pygments_lexer": "ipython3",
   "version": "3.5.2"
  }
 },
 "nbformat": 4,
 "nbformat_minor": 1
}
