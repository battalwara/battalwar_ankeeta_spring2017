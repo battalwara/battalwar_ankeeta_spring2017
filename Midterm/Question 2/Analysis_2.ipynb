{
 "cells": [
  {
   "cell_type": "markdown",
   "metadata": {},
   "source": [
    "# Analysis 2\n",
    "\n",
    "- Using the data fetched from Article API data, I've analyzed the number of articles for each section.\n",
    "- In the next step, I've analzed the number of subsections in the sections of these articles."
   ]
  },
  {
   "cell_type": "code",
   "execution_count": 14,
   "metadata": {
    "collapsed": true
   },
   "outputs": [],
   "source": [
    "import os\n",
    "import csv\n",
    "import json\n",
    "import datetime\n",
    "import calendar\n",
    "import collections\n",
    "import matplotlib.pyplot as plt"
   ]
  },
  {
   "cell_type": "code",
   "execution_count": 2,
   "metadata": {
    "collapsed": false,
    "scrolled": true
   },
   "outputs": [
    {
     "name": "stdout",
     "output_type": "stream",
     "text": [
      "Number of articles for each section\n",
      "{'Corrections': 7, 'Magazine': 13, 'Paid Death Notices': 45, 'Crosswords & Games': 1, 'Briefing': 8, 'Multimedia/Photos': 16, 'N.Y. / Region': 99, 'Home & Garden': 1, 'NYT Now': 25, 'Books': 31, 'Times Topics': 2, 'Crosswords/Games': 1, 'Science': 6, 'Universal': 3, 'World': 148, 'false': 45, 'Obituaries': 3, 'The Upshot': 37, 'Blogs': 5, 'Theater': 28, 'T Magazine': 3, 'Sports': 30, 'Movies': 7, 'Health': 3, None: 97, 'Technology': 16, 'Arts': 170, 'Food': 10, 'Sunday Review': 1, 'Well': 1, 'Today’s Paper': 1, 'Real Estate': 16, 'Your Money': 2, 'Education': 3, 'Travel': 4, 'Fashion & Style': 28, 'Style': 4, 'Automobiles': 1, 'Giving': 1, 'Opinion': 168, 'Great Homes & Destinations': 1, 'Times Insider': 3, 'Business Day': 107, 'U.S.': 1179}\n"
     ]
    }
   ],
   "source": [
    "from glob import glob                                                                                 \n",
    "import json\n",
    "\n",
    "output={}  \n",
    "sections = []; \n",
    "for filename in glob('ClintonData/*.json'):          \n",
    "    with open(filename) as file:                                \n",
    "        data = json.load(file)                             \n",
    "        response=data['response']                  \n",
    "        docs=response['docs']                      \n",
    "        for doc in docs:                                \n",
    "            if doc['section_name'] not in sections:  \n",
    "                sections.append(doc['section_name'])\n",
    "for i in range(0,len(sections)):\n",
    "    count=0\n",
    "    for filename in glob('ClintonData/*.json'):     \n",
    "        with open(filename) as file:                            \n",
    "            data = json.load(file)                         \n",
    "            response=data['response']\n",
    "            docs=response['docs']\n",
    "            for doc in docs:\n",
    "                if doc['section_name']==sections[i]:    \n",
    "                    count+=1\n",
    "                    output[doc['section_name']]=count\n",
    "print(\"Number of articles for each section\")\n",
    "print(output)                                                     \n"
   ]
  },
  {
   "cell_type": "code",
   "execution_count": 10,
   "metadata": {
    "collapsed": false
   },
   "outputs": [
    {
     "name": "stdout",
     "output_type": "stream",
     "text": [
      "Opinion\n",
      "[None, 'The Public Editor', 'Sunday Review', 'Room For Debate', 'Campaign Stops']\n",
      "U.S.\n",
      "['Politics', None, 'Education']\n",
      "false\n",
      "['false']\n",
      "Business Day\n",
      "[None, 'Dealbook', 'Media', 'Economy', 'Energy & Environment ', 'International Business', 'DealBook']\n",
      "Travel\n",
      "[None]\n",
      "World\n",
      "['Asia Pacific', 'Americas', 'Middle East', 'Europe', 'Africa', None, 'Australia']\n",
      "Books\n",
      "['Sunday Book Review', None, 'Book Review']\n",
      "Arts\n",
      "[None, 'Arts', 'Art & Design', 'Music', 'Television', 'Dance']\n",
      "Theater\n",
      "[None]\n",
      "N.Y. / Region\n",
      "[None]\n",
      "The Upshot\n",
      "[None]\n",
      "Real Estate\n",
      "[None, 'Commercial Real Estate']\n",
      "Multimedia/Photos\n",
      "[None]\n",
      "Sports\n",
      "['Baseball', 'Soccer', 'Pro Football', None, 'College Football', 'Pro Basketball']\n",
      "Style\n",
      "[None]\n",
      "Magazine\n",
      "[None]\n",
      "Fashion & Style\n",
      "['Weddings/Celebrations', None, 'Weddings']\n",
      "Your Money\n",
      "[None]\n",
      "Automobiles\n",
      "[None]\n",
      "Movies\n",
      "['DVD', None]\n",
      "Food\n",
      "[None]\n",
      "None\n",
      "[None]\n",
      "Paid Death Notices\n",
      "[None]\n",
      "Crosswords/Games\n",
      "[None]\n",
      "T Magazine\n",
      "[None]\n",
      "Science\n",
      "[None, 'Environment']\n",
      "Giving\n",
      "[None]\n",
      "Sunday Review\n",
      "[None]\n",
      "Technology\n",
      "[None]\n",
      "Obituaries\n",
      "[None]\n",
      "Home & Garden\n",
      "[None]\n",
      "Great Homes & Destinations\n",
      "[None]\n",
      "NYT Now\n",
      "[None]\n",
      "Corrections\n",
      "[None]\n",
      "Times Topics\n",
      "[None]\n",
      "Crosswords & Games\n",
      "[None]\n",
      "Blogs\n",
      "[None]\n",
      "Times Insider\n",
      "['Insider Events', None]\n",
      "Universal\n",
      "['América']\n",
      "Well\n",
      "['Family']\n",
      "Briefing\n",
      "[None]\n",
      "Health\n",
      "[None]\n",
      "Today’s Paper\n",
      "[None]\n",
      "Education\n",
      "[None]\n"
     ]
    }
   ],
   "source": [
    "for each_sec in sections:\n",
    "    subsections=[]\n",
    "    for filename in glob('ClintonData/*.json'):          \n",
    "        with open(filename) as file:                               \n",
    "            data = json.load(file)                            \n",
    "            response=data['response']\n",
    "            docs=response['docs']\n",
    "            for doc in docs:\n",
    "                    if doc['section_name']==each_sec:\n",
    "                        if doc['subsection_name'] not in subsections:\n",
    "                            subsections.append(doc['subsection_name'])\n",
    "    print(each_sec)\n",
    "    print(subsections)"
   ]
  },
  {
   "cell_type": "code",
   "execution_count": null,
   "metadata": {
    "collapsed": true
   },
   "outputs": [],
   "source": []
  }
 ],
 "metadata": {
  "anaconda-cloud": {},
  "kernelspec": {
   "display_name": "Python [conda root]",
   "language": "python",
   "name": "conda-root-py"
  },
  "language_info": {
   "codemirror_mode": {
    "name": "ipython",
    "version": 3
   },
   "file_extension": ".py",
   "mimetype": "text/x-python",
   "name": "python",
   "nbconvert_exporter": "python",
   "pygments_lexer": "ipython3",
   "version": "3.5.2"
  }
 },
 "nbformat": 4,
 "nbformat_minor": 1
}
