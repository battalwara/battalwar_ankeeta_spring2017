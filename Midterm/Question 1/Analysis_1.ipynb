{
 "cells": [
  {
   "cell_type": "markdown",
   "metadata": {},
   "source": [
    "# Analysis 1\n",
    "\n",
    "- Here, I've attempted to parse through all the emails in the Enron data set and get the following information:\n",
    "    1. Top 10 email addresses receiving the most emails\n",
    "    2. Top 10 email addresses sending the most emails\n",
    "    3. The body of all the emails\n",
    "    \n",
    "- In order to use the directory structure provied in the question, I've first used the directory to fetch the data as directed (Midterm\\\\data\\\\enron\\\\maildir)\n",
    "- Later, to write to the txt files, kindly change the directory to where you want these files to be stored for viewing and/or retrieval"
   ]
  },
  {
   "cell_type": "code",
   "execution_count": 2,
   "metadata": {
    "collapsed": false
   },
   "outputs": [
    {
     "name": "stdout",
     "output_type": "stream",
     "text": [
      "D:\\NEU\\Spring 2017\\Data Analysis using Python\\Final assignments\\Midterm\\data\\enron\\maildir\n",
      "D:\\NEU\\Spring 2017\\Data Analysis using Python\\Final assignments\\Midterm\\data\\enron\\maildir\n"
     ]
    }
   ],
   "source": [
    "import os\n",
    "import csv\n",
    "from collections import Counter\n",
    "from email.parser import Parser\n",
    "                     \n",
    "print(os.getcwd())                        \n",
    "os.chdir('D:\\\\NEU\\\\Spring 2017\\\\Data Analysis using Python\\\\Final assignments\\\\Midterm\\\\data\\\\enron\\\\maildir')\n",
    "print(os.getcwd()) "
   ]
  },
  {
   "cell_type": "code",
   "execution_count": 3,
   "metadata": {
    "collapsed": false
   },
   "outputs": [],
   "source": [
    "rootdirectory = os.getcwd();\n",
    "\n",
    "# Function to get the to-list, from-list and email-body\n",
    "def email_count(inputfile, to_email_list, from_email_list):\n",
    "    with open(inputfile, \"r\") as outfile:\n",
    "        data = outfile.read()\n",
    "\n",
    "    email = Parser().parsestr(data)\n",
    "    \n",
    "# Following steps are to accomodate multiple email addresses in the 'to' field of all emails in the dataset\n",
    "    if email['to']:\n",
    "        to_email = email['to']\n",
    "        to_email = to_email.replace(\"\\n\", \"\")\n",
    "        to_email = to_email.replace(\"\\t\", \"\")\n",
    "        to_email = to_email.replace(\" \", \"\")\n",
    "        to_email = to_email.split(\",\")\n",
    "\n",
    "        for to_email_1 in to_email:\n",
    "            to_email_list.append(to_email_1)\n",
    "\n",
    "    from_email_list.append(email['from'])\n",
    "\n",
    "to_email_list = []                         #This list will contain all senders of emails\n",
    "from_email_list = []                       #This list will contain all recievers of emails"
   ]
  },
  {
   "cell_type": "code",
   "execution_count": 6,
   "metadata": {
    "collapsed": false,
    "scrolled": false
   },
   "outputs": [],
   "source": [
    "# Using the function we defined to populate the empty lists with respective data\n",
    "for directory, subdirectory, filenames in  os.walk(rootdirectory):\n",
    "    for filename in filenames:\n",
    "        email_count(os.path.join(directory, filename), to_email_list, from_email_list )\n"
   ]
  },
  {
   "cell_type": "code",
   "execution_count": null,
   "metadata": {
    "collapsed": true
   },
   "outputs": [],
   "source": [
    "print(\"\\nTo email adresses are: \\n\")\n",
    "#Using counter method to count number of emails to every email adress and getting the top 10 frequent email adresses, instead of manually counting\n",
    "print(Counter(to_email_list).most_common(10)) \n",
    "list1=[]\n",
    "list1.append(Counter(to_email_list).most_common(10)\n",
    "\n",
    "print(\"\\nFrom email adresses are: \\n\")\n",
    "print(Counter(from_email_list).most_common(10))\n",
    "list2=[]\n",
    "list2.append(Counter(from_email_list).most_common(10)\n"
   ]
  },
  {
   "cell_type": "code",
   "execution_count": null,
   "metadata": {
    "collapsed": true
   },
   "outputs": [],
   "source": [
    "with open('Q1_A1_OP1.csv', 'w') as file1:\n",
    "    for line in list1:\n",
    "        file1.write(line)\n",
    "             \n",
    "with open('Q1_A1_OP2.csv', 'w') as file2:\n",
    "    for line in list2:\n",
    "        file2.write(line)"
   ]
  },
  {
   "cell_type": "code",
   "execution_count": 2,
   "metadata": {
    "collapsed": false
   },
   "outputs": [],
   "source": [
    "# Writing to txt files to use in future analysis:\n",
    "# We have to change the directory here for printing the lists into txt files; not at the location of our actual enron data\n",
    "os.chdir('D:\\\\NEU\\\\Spring 2017\\\\Data Analysis using Python\\\\Final assignments\\\\Midterm\\\\Question 1')\n",
    "with open(\"to_email_list.txt\", \"w\") as file:\n",
    "    for to_email in to_email_list:\n",
    "        if to_email:\n",
    "            file.write(to_email)\n",
    "            file.write(\"\\n\")\n",
    "            \n",
    "with open(\"from_email_list.txt\", \"w\") as file:\n",
    "    for from_email in from_email_list:\n",
    "        if from_email:\n",
    "            file.write(from_email)\n",
    "            file.write(\"\\n\")  \n"
   ]
  },
  {
   "cell_type": "markdown",
   "metadata": {},
   "source": [
    "# Inference\n",
    "\n",
    "-From the top 10 receivers of mails (to_email_list), we can see that the top most person to receive emails is Richard Shapiro. He was the Senior Vice President and lobbyist for Enron. A lobbyist is the person who takes part in an organized attempt to influence legislators. In simpler terms, he/she pays bribes to the government to mend laws etc. He was convicted for fraud during the trials by the government.\n",
    "\n",
    "-The second top most person to receive mails was Jeff Dasovich, who was the Government Relations Executive at Enron. We can think that the corporation was actively involved in maintaining relations with the U.S. government, which might have helped in keeping the fraud hidden.\n",
    "\n",
    "-The top most person to send emails was Kay Mann. On researching, I found out that she was the Assistant General Counsel and thus was one of the top officials of the legal department at Enron. She was not found guilty on any charges. This shows that not all employees were part of the fraud, only the tp officials were, even after having such a strong legal department.\n",
    "\n"
   ]
  }
 ],
 "metadata": {
  "anaconda-cloud": {},
  "kernelspec": {
   "display_name": "Python [conda root]",
   "language": "python",
   "name": "conda-root-py"
  },
  "language_info": {
   "codemirror_mode": {
    "name": "ipython",
    "version": 3
   },
   "file_extension": ".py",
   "mimetype": "text/x-python",
   "name": "python",
   "nbconvert_exporter": "python",
   "pygments_lexer": "ipython3",
   "version": "3.5.2"
  }
 },
 "nbformat": 4,
 "nbformat_minor": 1
}
