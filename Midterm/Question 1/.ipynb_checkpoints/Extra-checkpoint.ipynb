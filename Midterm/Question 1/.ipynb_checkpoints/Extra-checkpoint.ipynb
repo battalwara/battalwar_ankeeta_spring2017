{
 "cells": [
  {
   "cell_type": "markdown",
   "metadata": {},
   "source": [
    "# Extra\n",
    "\n",
    "- In the last analysis, we stored all the body of emails in the Enron data set.\n",
    "- In this analysis, I have calculated the frequency of all the words contained in these emails and seen the top frequent words that are relative to the scam."
   ]
  },
  {
   "cell_type": "code",
   "execution_count": 2,
   "metadata": {
    "collapsed": false
   },
   "outputs": [
    {
     "name": "stdout",
     "output_type": "stream",
     "text": [
      "D:\\NEU\\Spring 2017\\Data Analysis using Python\\Final assignments\\Midterm\\Question 1\n"
     ]
    }
   ],
   "source": [
    "from email.parser import Parser\n",
    "import os\n",
    "import datetime\n",
    "import csv\n",
    "import email\n",
    "print(os.getcwd())  "
   ]
  },
  {
   "cell_type": "code",
   "execution_count": 10,
   "metadata": {
    "collapsed": false
   },
   "outputs": [
    {
     "name": "stdout",
     "output_type": "stream",
     "text": [
      "D:\\NEU\\Spring 2017\\Data Analysis using Python\\Final assignments\\Midterm\\data\\enron\\maildir\\lay-k\n"
     ]
    }
   ],
   "source": [
    "os.chdir('D:\\\\NEU\\\\Spring 2017\\\\Data Analysis using Python\\\\Final assignments\\\\Midterm\\\\data\\\\enron\\\\maildir\\\\lay-k')\n",
    "print(os.getcwd()) \n",
    "rootdirectory = os.getcwd();\n",
    "op_file_name='Lay_words.csv'\n",
    "\n",
    "# List of words we are searching in Kenneth Lay's emails:\n",
    "words_list=['bankrupt','bankruptcy','shutdown', 'talking points', 'FERC'] \n",
    "\n",
    "path= 'D:\\\\NEU\\\\Spring 2017\\\\Data Analysis using Python\\\\Final assignments\\\\Midterm\\\\Question 1'\n",
    "with open(os.path.join(path,op_file_name),'w', newline='') as file:\n",
    "    output= csv.writer(file)\n",
    "    output.writerow(['Path','Output_file_name','Sender','Date','Word'])\n",
    "    for directory, subdirectory, files in  os.walk(rootdirectory):\n",
    "        for file in files:\n",
    "            if not file.startswith('.'):\n",
    "                with open(os.path.join(directory,file),'r',encoding='utf-8',errors='ignore') as f:\n",
    "                    data = f.read()\n",
    "                email = Parser().parsestr(data)\n",
    "                date=email['Date']\n",
    "                _date = datetime.datetime.strptime(date[:-12],'%a, %d %b %Y %H:%M:%S')\n",
    "                    \n",
    "                   \n",
    "                start= datetime.datetime.strptime('14 aug 2001 00:00:00','%d %b %Y %H:%M:%S')\n",
    "                end= datetime.datetime.strptime('02 dec 2001 23:59:59','%d %b %Y %H:%M:%S')\n",
    "                while _date<end and _date>start:\n",
    "                    email_data = email.as_string()\n",
    "                    email_str = email_data.lower()\n",
    "                    for word in words_list:\n",
    "                        if word in email_str:\n",
    "                            output.writerow([directory,file,email['From'],_date,word])\n",
    "                    start = start+datetime.timedelta(days=1)"
   ]
  }
 ],
 "metadata": {
  "anaconda-cloud": {},
  "kernelspec": {
   "display_name": "Python [conda root]",
   "language": "python",
   "name": "conda-root-py"
  },
  "language_info": {
   "codemirror_mode": {
    "name": "ipython",
    "version": 3
   },
   "file_extension": ".py",
   "mimetype": "text/x-python",
   "name": "python",
   "nbconvert_exporter": "python",
   "pygments_lexer": "ipython3",
   "version": "3.5.2"
  }
 },
 "nbformat": 4,
 "nbformat_minor": 1
}
