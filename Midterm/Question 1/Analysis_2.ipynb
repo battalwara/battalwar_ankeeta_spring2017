{
 "cells": [
  {
   "cell_type": "markdown",
   "metadata": {},
   "source": [
    "# Analysis 2\n",
    "\n",
    "- In this analysis, I've tried to retrieve all the domain addresses of email IDs to which mails were sent by the employees at Enron Corportion to see which outer bodies di dthey communicate with.\n",
    "- For this analysis, I've used the 'to_emil_list.txt' file which was output of the last analysis\n",
    "- NLTK package is used to use the inbuilt function word_tokenize"
   ]
  },
  {
   "cell_type": "code",
   "execution_count": 1,
   "metadata": {
    "collapsed": false
   },
   "outputs": [],
   "source": [
    "import os\n",
    "from nltk.tokenize import word_tokenize\n",
    "with open(\"to_email_list.txt\", \"r\") as file:\n",
    "    data = file.read()\n",
    "    data_line=data.split('\\n')"
   ]
  },
  {
   "cell_type": "code",
   "execution_count": 7,
   "metadata": {
    "collapsed": false
   },
   "outputs": [],
   "source": [
    "new_list=[] #This list will contain all the domain names of the email IDs\n",
    "for i in range(len(data_line)):\n",
    "    temp=data_line[i]\n",
    "    temp2=temp.split('@')\n",
    "    if len(temp2)>1:\n",
    "        new_list.append(temp2[1])"
   ]
  },
  {
   "cell_type": "code",
   "execution_count": 8,
   "metadata": {
    "collapsed": false
   },
   "outputs": [],
   "source": [
    "neww_emails=list(set(new_list))"
   ]
  },
  {
   "cell_type": "code",
   "execution_count": 9,
   "metadata": {
    "collapsed": true
   },
   "outputs": [],
   "source": [
    "emails_other=[] # This list contains all the unique domain names that exchanged mails with enron.com\n",
    "for i in range(len(neww_emails)):\n",
    "    if('enron.com' not in neww_emails[i]):\n",
    "        emails_other.append(neww_emails[i])\n",
    "       "
   ]
  },
  {
   "cell_type": "code",
   "execution_count": 21,
   "metadata": {
    "collapsed": false
   },
   "outputs": [],
   "source": [
    "with open(\"Q1_A2_OP.txt\", \"w\") as file:\n",
    "    for email in emails_other:\n",
    "        file.write(email)\n",
    "        file.write(\"\\n\")"
   ]
  },
  {
   "cell_type": "markdown",
   "metadata": {},
   "source": [
    "# Inference\n",
    "\n",
    "- Thus we can see that Enron corporation maintained communications with a lot of organizations outside the company, some of the notable ones being:\n",
    "    - uk.standardchartered.com : Enron had relations with a few people in the UK to hide money. This may relate to those transactions.\n",
    "    - duke_energy.com : This was one of the firms that was accused of fraud too as subsidaries to Enron Corp."
   ]
  },
  {
   "cell_type": "code",
   "execution_count": 18,
   "metadata": {
    "collapsed": false
   },
   "outputs": [],
   "source": [
    "import csv\n",
    "with open('Q1_A1_OP2.csv','w', newline='') as file:\n",
    "    writer = csv.writer(file)\n",
    "    for i in range(len(emails_other)):\n",
    "        writer.writerow(emails_other[i])\n",
    "    "
   ]
  }
 ],
 "metadata": {
  "anaconda-cloud": {},
  "kernelspec": {
   "display_name": "Python [conda root]",
   "language": "python",
   "name": "conda-root-py"
  },
  "language_info": {
   "codemirror_mode": {
    "name": "ipython",
    "version": 3
   },
   "file_extension": ".py",
   "mimetype": "text/x-python",
   "name": "python",
   "nbconvert_exporter": "python",
   "pygments_lexer": "ipython3",
   "version": "3.5.2"
  }
 },
 "nbformat": 4,
 "nbformat_minor": 1
}
