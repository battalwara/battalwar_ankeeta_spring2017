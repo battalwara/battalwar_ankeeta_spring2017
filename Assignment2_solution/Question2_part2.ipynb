{
 "cells": [
  {
   "cell_type": "markdown",
   "metadata": {},
   "source": [
    "# Question 2 Part 2:\n",
    "\n",
    "Read all json files under the folder data containing key \"restaurants\". Read timings of the restaurants. Create csv file that shows start and end timings (split into hours and minutes) for days of week that a particular restaurant is open."
   ]
  },
  {
   "cell_type": "code",
   "execution_count": 1,
   "metadata": {
    "collapsed": true
   },
   "outputs": [],
   "source": [
    "import datetime\n",
    "import csv\n",
    "import os\n",
    "import json"
   ]
  },
  {
   "cell_type": "code",
   "execution_count": 16,
   "metadata": {
    "collapsed": true
   },
   "outputs": [],
   "source": [
    "default_directory= 'DataProcessed'\n",
    "with open('timings.csv','w', newline='') as file:\n",
    "    writer = csv.writer(file)\n",
    "    writer.writerow([\"Name of Restaurant\",\"City\",\"Country Code\",\"Day Of Week\",\"Start Time Hour\",\"Start Time Minute\",\"End Time Hour\",\"End Time Minute\"])\n",
    "    for directory, subdirectory, files in os.walk(default_directory):\n",
    "        for file in files:\n",
    "            if file.endswith('.json'): \n",
    "                 with open(os.path.join(directory,file),'r',encoding='utf-8', errors='ignore') as json_input:\n",
    "                        json_data= json.load(json_input)\n",
    "                        if json_data['term'] == 'restaurants':\n",
    "                            if 'hours' in json_data.keys():\n",
    "                                    hours_open=json_data['hours'][0]['open'] \n",
    "                                    for i in range(len(hours_open)):                \n",
    "                                        with open('timings.csv', 'a',encoding='utf-8') as outcsv:\n",
    "                                            writer = csv.writer(outcsv)\n",
    "                                            writer.writerow([json_data['id'].replace(\"-\",\" \"),json_data['location']['city'],json_data['location']['country'],hours_open[i]['day'],hours_open[i]['start'][:2],hours_open[i]['start'][2:],hours_open[i]['end'][:2],hours_open[i]['end'][2:]])\n"
   ]
  },
  {
   "cell_type": "code",
   "execution_count": null,
   "metadata": {
    "collapsed": true
   },
   "outputs": [],
   "source": []
  }
 ],
 "metadata": {
  "anaconda-cloud": {},
  "kernelspec": {
   "display_name": "Python [default]",
   "language": "python",
   "name": "python3"
  },
  "language_info": {
   "codemirror_mode": {
    "name": "ipython",
    "version": 3
   },
   "file_extension": ".py",
   "mimetype": "text/x-python",
   "name": "python",
   "nbconvert_exporter": "python",
   "pygments_lexer": "ipython3",
   "version": "3.5.2"
  }
 },
 "nbformat": 4,
 "nbformat_minor": 1
}
