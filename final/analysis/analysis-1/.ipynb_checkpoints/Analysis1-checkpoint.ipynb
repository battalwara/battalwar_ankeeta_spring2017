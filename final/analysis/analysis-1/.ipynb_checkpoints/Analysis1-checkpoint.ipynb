{
 "cells": [
  {
   "cell_type": "markdown",
   "metadata": {},
   "source": [
    "# Analysis 1\n",
    "Analysis of the 'calendar.csv' file for Boston Airbnb data for the following information:\n",
    "1. Availability of the listings over days\n",
    "2. Price variations of listings across the year for data available\n",
    "\n",
    "'calendar.csv' contains information on a particular date, listig ID and the price and availability for that day\n",
    "\n",
    "Packages used are:\n",
    "numpy, pandas, matplotlib, seaborn, datetime"
   ]
  },
  {
   "cell_type": "code",
   "execution_count": 23,
   "metadata": {
    "collapsed": false
   },
   "outputs": [],
   "source": [
    "# Cell contains import statements etc. for analysis\n",
    "import numpy as np\n",
    "import pandas as pd\n",
    "import os\n",
    "os.chdir('..')\n",
    "os.chdir('..')\n",
    "cwd = os.getcwd()\n",
    "\n",
    "import matplotlib.pyplot as plt\n",
    "import seaborn as sns\n",
    "\n",
    "from datetime import datetime\n",
    "import matplotlib\n",
    "\n",
    "# Plots the figures in same place instead of a new window\n",
    "%matplotlib inline"
   ]
  },
  {
   "cell_type": "code",
   "execution_count": 25,
   "metadata": {
    "collapsed": false
   },
   "outputs": [
    {
     "data": {
      "text/html": [
       "<div>\n",
       "<table border=\"1\" class=\"dataframe\">\n",
       "  <thead>\n",
       "    <tr style=\"text-align: right;\">\n",
       "      <th></th>\n",
       "      <th>listing_id</th>\n",
       "      <th>date</th>\n",
       "      <th>available</th>\n",
       "      <th>price</th>\n",
       "    </tr>\n",
       "  </thead>\n",
       "  <tbody>\n",
       "    <tr>\n",
       "      <th>0</th>\n",
       "      <td>12147973</td>\n",
       "      <td>2017-09-05</td>\n",
       "      <td>f</td>\n",
       "      <td>NaN</td>\n",
       "    </tr>\n",
       "    <tr>\n",
       "      <th>1</th>\n",
       "      <td>12147973</td>\n",
       "      <td>2017-09-04</td>\n",
       "      <td>f</td>\n",
       "      <td>NaN</td>\n",
       "    </tr>\n",
       "    <tr>\n",
       "      <th>2</th>\n",
       "      <td>12147973</td>\n",
       "      <td>2017-09-03</td>\n",
       "      <td>f</td>\n",
       "      <td>NaN</td>\n",
       "    </tr>\n",
       "    <tr>\n",
       "      <th>3</th>\n",
       "      <td>12147973</td>\n",
       "      <td>2017-09-02</td>\n",
       "      <td>f</td>\n",
       "      <td>NaN</td>\n",
       "    </tr>\n",
       "    <tr>\n",
       "      <th>4</th>\n",
       "      <td>12147973</td>\n",
       "      <td>2017-09-01</td>\n",
       "      <td>f</td>\n",
       "      <td>NaN</td>\n",
       "    </tr>\n",
       "  </tbody>\n",
       "</table>\n",
       "</div>"
      ],
      "text/plain": [
       "   listing_id        date available price\n",
       "0    12147973  2017-09-05         f   NaN\n",
       "1    12147973  2017-09-04         f   NaN\n",
       "2    12147973  2017-09-03         f   NaN\n",
       "3    12147973  2017-09-02         f   NaN\n",
       "4    12147973  2017-09-01         f   NaN"
      ]
     },
     "execution_count": 25,
     "metadata": {},
     "output_type": "execute_result"
    }
   ],
   "source": [
    "# Create DFs for holding 'calendar.csv' data\n",
    "calendarData = pd.read_csv(cwd+\"//\"+\"Data//Boston//calendar.csv\")\n",
    "calendarData.head()"
   ]
  },
  {
   "cell_type": "code",
   "execution_count": 26,
   "metadata": {
    "collapsed": false
   },
   "outputs": [
    {
     "name": "stderr",
     "output_type": "stream",
     "text": [
      "C:\\Users\\Ankeeta\\Anaconda3\\lib\\site-packages\\pandas\\core\\indexing.py:561: SettingWithCopyWarning: \n",
      "A value is trying to be set on a copy of a slice from a DataFrame.\n",
      "Try using .loc[row_indexer,col_indexer] = value instead\n",
      "\n",
      "See the caveats in the documentation: http://pandas.pydata.org/pandas-docs/stable/indexing.html#indexing-view-versus-copy\n",
      "  self.obj[item_labels[indexer[info_axis]]] = value\n"
     ]
    }
   ],
   "source": [
    "# Part I\n",
    "\n",
    "# Assigning available= 1 if listing available on a date and 0 if not, to do further grouping \n",
    "availableApts = calendarData[['date', 'available']]\n",
    "\n",
    "available = availableApts.apply(lambda row : 1 if row['available'] == 't' else 0, 1)\n",
    "availableApts.loc[:,'available'] = available"
   ]
  },
  {
   "cell_type": "code",
   "execution_count": 27,
   "metadata": {
    "collapsed": false
   },
   "outputs": [],
   "source": [
    "# Grouping data by date and aggregating on sum and count to get average\n",
    "groupedData   = availableApts.groupby([availableApts.date]).agg(['sum', 'count'])\n",
    "groupedData.loc[:, 'avg'] = groupedData['available']['sum']/groupedData['available']['count']"
   ]
  },
  {
   "cell_type": "code",
   "execution_count": 42,
   "metadata": {
    "collapsed": false,
    "scrolled": true
   },
   "outputs": [
    {
     "data": {
      "image/png": "[encoded data removed]",
      "text/plain": [
       "<matplotlib.figure.Figure at 0x2b354e80b38>"
      ]
     },
     "metadata": {},
     "output_type": "display_data"
    }
   ],
   "source": [
    "# Plotting the availability of listings over days\n",
    "dates = pd.to_datetime(groupedData.index.values, errors='ignore')\n",
    "dates = dates.astype(datetime) # Converting date to datetime datatype\n",
    "dates = matplotlib.dates.date2num(dates)\n",
    "\n",
    "fig, axs = plt.subplots(1,1) # Creating plot\n",
    "axs.plot_date(dates, groupedData.avg.tolist(), '-')\n",
    "\n",
    "plt.title('Availability of listings over days')\n",
    "axs.grid(True)\n",
    "axs.set_xlabel('Year-Month')\n",
    "axs.set_ylabel('% Availability of Listings')\n",
    "fig.autofmt_xdate()\n",
    "fig.adjustable = True\n",
    "fig.set_size_inches(8, 6) \n",
    "\n",
    "\n",
    "plt.savefig(cwd+\"//analysis//analysis-1//Output1.jpg\", dpi=1200)\n",
    "plt.show()"
   ]
  },
  {
   "cell_type": "markdown",
   "metadata": {},
   "source": [
    "# 1. Conclusion:\n",
    "The above graph shows us the trend of busiest days in Boston between September 2016- September 2017 based on the % availability of listings. Availability has increased drastically from Sepetember to December 2016, maybe because many hosts joined Airbnb with its increasing popularity. "
   ]
  },
  {
   "cell_type": "code",
   "execution_count": 43,
   "metadata": {
    "collapsed": false
   },
   "outputs": [
    {
     "data": {
      "image/png": "[encoded data removed]",
      "text/plain": [
       "<matplotlib.figure.Figure at 0x2b354ebe8d0>"
      ]
     },
     "metadata": {},
     "output_type": "display_data"
    }
   ],
   "source": [
    "# Part II\n",
    "\n",
    "# Dropping calendar data having NaN values, converting price to float to get rid of','\n",
    "calendarData= calendarData.dropna()\n",
    "if calendarData.price.dtype != np.float64:\n",
    "    calendarData.price = calendarData.price.map(lambda p : float(p[1:-3].replace(',','')))\n",
    "calendarData['date'] = pd.to_datetime(calendarData['date'])\n",
    "\n",
    "# Grouping price based on on month of the year using TimeGrouper and taking Average\n",
    "price=calendarData.set_index('date').groupby(pd.TimeGrouper(freq='M')).median()\n",
    "\n",
    "# Plotting bar graph to show price of listings based on time of the year\n",
    "# strftime converts date back to string type for displaying; %B- month abbreviation, %Y- Year\n",
    "sns.barplot(x=price.index.strftime('%B %Y'),y=price['price'])\n",
    "plt.xticks(rotation=90)\n",
    "plt.xlabel('Month-Year')\n",
    "plt.ylabel('Price')\n",
    "plt.title('Price variations based on month-year')\n",
    "\n",
    "plt.savefig(cwd+\"//analysis//analysis-1//Output2.jpg\", dpi=1200)\n",
    "plt.show()"
   ]
  },
  {
   "cell_type": "markdown",
   "metadata": {},
   "source": [
    "# 2. Conclusion:\n",
    "The above graph shows the trend for average price of listings over the month-year data available. We can infer that as the Airbnb app got popular, the average prices have remained about the same close to 150 dollars , as compared to around 200 dollars in September 2016."
   ]
  },
  {
   "cell_type": "code",
   "execution_count": null,
   "metadata": {
    "collapsed": true
   },
   "outputs": [],
   "source": []
  }
 ],
 "metadata": {
  "anaconda-cloud": {},
  "kernelspec": {
   "display_name": "Python [conda root]",
   "language": "python",
   "name": "conda-root-py"
  },
  "language_info": {
   "codemirror_mode": {
    "name": "ipython",
    "version": 3
   },
   "file_extension": ".py",
   "mimetype": "text/x-python",
   "name": "python",
   "nbconvert_exporter": "python",
   "pygments_lexer": "ipython3",
   "version": "3.5.2"
  }
 },
 "nbformat": 4,
 "nbformat_minor": 1
}
