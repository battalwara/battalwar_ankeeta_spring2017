{
 "cells": [
  {
   "cell_type": "markdown",
   "metadata": {},
   "source": [
    "# "
   ]
  },
  {
   "cell_type": "code",
   "execution_count": 1,
   "metadata": {
    "collapsed": true
   },
   "outputs": [],
   "source": [
    "# Using Calendar\n",
    "import numpy as np\n",
    "import pandas as pd\n",
    "import os\n",
    "cwd = os.getcwd()\n",
    "\n",
    "import matplotlib.pyplot as plt\n",
    "import seaborn as sns\n",
    "\n",
    "# Plots the figures in same place instead of a new window\n",
    "%matplotlib inline"
   ]
  },
  {
   "cell_type": "code",
   "execution_count": 2,
   "metadata": {
    "collapsed": false
   },
   "outputs": [
    {
     "data": {
      "text/html": [
       "<div>\n",
       "<table border=\"1\" class=\"dataframe\">\n",
       "  <thead>\n",
       "    <tr style=\"text-align: right;\">\n",
       "      <th></th>\n",
       "      <th>listing_id</th>\n",
       "      <th>date</th>\n",
       "      <th>available</th>\n",
       "      <th>price</th>\n",
       "    </tr>\n",
       "  </thead>\n",
       "  <tbody>\n",
       "    <tr>\n",
       "      <th>0</th>\n",
       "      <td>12147973</td>\n",
       "      <td>2017-09-05</td>\n",
       "      <td>f</td>\n",
       "      <td>NaN</td>\n",
       "    </tr>\n",
       "    <tr>\n",
       "      <th>1</th>\n",
       "      <td>12147973</td>\n",
       "      <td>2017-09-04</td>\n",
       "      <td>f</td>\n",
       "      <td>NaN</td>\n",
       "    </tr>\n",
       "    <tr>\n",
       "      <th>2</th>\n",
       "      <td>12147973</td>\n",
       "      <td>2017-09-03</td>\n",
       "      <td>f</td>\n",
       "      <td>NaN</td>\n",
       "    </tr>\n",
       "    <tr>\n",
       "      <th>3</th>\n",
       "      <td>12147973</td>\n",
       "      <td>2017-09-02</td>\n",
       "      <td>f</td>\n",
       "      <td>NaN</td>\n",
       "    </tr>\n",
       "    <tr>\n",
       "      <th>4</th>\n",
       "      <td>12147973</td>\n",
       "      <td>2017-09-01</td>\n",
       "      <td>f</td>\n",
       "      <td>NaN</td>\n",
       "    </tr>\n",
       "  </tbody>\n",
       "</table>\n",
       "</div>"
      ],
      "text/plain": [
       "   listing_id        date available price\n",
       "0    12147973  2017-09-05         f   NaN\n",
       "1    12147973  2017-09-04         f   NaN\n",
       "2    12147973  2017-09-03         f   NaN\n",
       "3    12147973  2017-09-02         f   NaN\n",
       "4    12147973  2017-09-01         f   NaN"
      ]
     },
     "execution_count": 2,
     "metadata": {},
     "output_type": "execute_result"
    }
   ],
   "source": [
    "# Create DFs for holding 'calendar.csv' data\n",
    "calendarData = pd.read_csv(cwd+\"//\"+\"Data//Boston//calendar.csv\")\n",
    "calendarData.head()"
   ]
  },
  {
   "cell_type": "code",
   "execution_count": 3,
   "metadata": {
    "collapsed": false
   },
   "outputs": [
    {
     "name": "stderr",
     "output_type": "stream",
     "text": [
      "C:\\Users\\Ankeeta\\Anaconda3\\lib\\site-packages\\pandas\\core\\indexing.py:561: SettingWithCopyWarning: \n",
      "A value is trying to be set on a copy of a slice from a DataFrame.\n",
      "Try using .loc[row_indexer,col_indexer] = value instead\n",
      "\n",
      "See the caveats in the documentation: http://pandas.pydata.org/pandas-docs/stable/indexing.html#indexing-view-versus-copy\n",
      "  self.obj[item_labels[indexer[info_axis]]] = value\n"
     ]
    }
   ],
   "source": [
    "availableApts = calendarData[['date', 'available']]\n",
    "\n",
    "#convert available column to 1 if available and 0 if not to do farther grouping operation\n",
    "available = availableApts.apply(lambda row : 1 if row['available'] == 't' else 0, 1)\n",
    "availableApts.loc[:,'available'] = available"
   ]
  },
  {
   "cell_type": "code",
   "execution_count": 7,
   "metadata": {
    "collapsed": false
   },
   "outputs": [],
   "source": [
    "groupedData   = availableApts.groupby([availableApts.date]).agg(['sum', 'count'])\n",
    "groupedData.loc[:, 'avg'] = groupedData['available']['sum']/groupedData['available']['count']"
   ]
  },
  {
   "cell_type": "code",
   "execution_count": 10,
   "metadata": {
    "collapsed": false
   },
   "outputs": [
    {
     "data": {
      "image/png": "[encoded data removed]",
      "text/plain": [
       "<matplotlib.figure.Figure at 0x1af26e3e1d0>"
      ]
     },
     "metadata": {},
     "output_type": "display_data"
    }
   ],
   "source": [
    "#plotting the availability over days\n",
    "\n",
    "from matplotlib.dates import YearLocator, MonthLocator, DateFormatter, WeekdayLocator, DayLocator\n",
    "from datetime import datetime\n",
    "import matplotlib\n",
    "years = YearLocator()   # every year\n",
    "months = MonthLocator()  # every month\n",
    "days = DayLocator()  # every day\n",
    "yearsFmt = DateFormatter('Y%')\n",
    "monthsFmt = DateFormatter('%Y-%m')\n",
    "\n",
    "dates = pd.to_datetime(groupedData.index.values, errors='ignore')\n",
    "dates = dates.astype(datetime)\n",
    "dates = matplotlib.dates.date2num(dates)\n",
    "\n",
    "fig, axs = plt.subplots(1,1)\n",
    "axs.plot_date(dates, groupedData.avg.tolist(), '-')\n",
    "\n",
    "axs.xaxis.set_major_locator(months)\n",
    "axs.xaxis.set_major_formatter(monthsFmt)\n",
    "axs.xaxis.set_minor_locator(days)\n",
    "axs.autoscale_view()\n",
    "axs.fmt_xdata = DateFormatter('%Y-%m-%d')\n",
    "axs.grid(True)\n",
    "axs.set_xlabel('time')\n",
    "axs.set_ylabel('% availability')\n",
    "\n",
    "fig.adjustable = True\n",
    "fig.set_size_inches(8, 5) \n",
    "fig.autofmt_xdate()\n",
    "plt.show()"
   ]
  },
  {
   "cell_type": "code",
   "execution_count": 11,
   "metadata": {
    "collapsed": false
   },
   "outputs": [
    {
     "data": {
      "text/plain": [
       "<matplotlib.text.Text at 0x1af2822c5f8>"
      ]
     },
     "execution_count": 11,
     "metadata": {},
     "output_type": "execute_result"
    },
    {
     "data": {
      "image/png": "[encoded data removed]",
      "text/plain": [
       "<matplotlib.figure.Figure at 0x1af27c4f898>"
      ]
     },
     "metadata": {},
     "output_type": "display_data"
    }
   ],
   "source": [
    "#Price variations across the year\n",
    "\n",
    "# Dropping calendar data having NaN values, converting price to float to get rid of','\n",
    "calendarData= calendarData.dropna()\n",
    "if calendarData.price.dtype != np.float64:\n",
    "    calendarData.price = calendarData.price.map(lambda p : float(p[1:-3].replace(',','')))\n",
    "calendarData['date'] = pd.to_datetime(calendarData['date'])\n",
    "\n",
    "# Grouping price based on on month of the year using TimeGrouper and taking Average\n",
    "price=calendarData.set_index('date').groupby(pd.TimeGrouper(freq='M')).median()\n",
    "\n",
    "# Plotting bar graph to show price of listings based on time of the year\n",
    "# strftime converts date back to string type for displaying; %B- month abbreviation, %Y- Year\n",
    "sns.barplot(x=price.index.strftime('%B %Y'),y=price['price'])\n",
    "plt.xticks(rotation=90)\n",
    "plt.xlabel('Month')\n",
    "plt.ylabel('Price')"
   ]
  },
  {
   "cell_type": "code",
   "execution_count": null,
   "metadata": {
    "collapsed": true
   },
   "outputs": [],
   "source": []
  }
 ],
 "metadata": {
  "anaconda-cloud": {},
  "kernelspec": {
   "display_name": "Python [conda root]",
   "language": "python",
   "name": "conda-root-py"
  },
  "language_info": {
   "codemirror_mode": {
    "name": "ipython",
    "version": 3
   },
   "file_extension": ".py",
   "mimetype": "text/x-python",
   "name": "python",
   "nbconvert_exporter": "python",
   "pygments_lexer": "ipython3",
   "version": "3.5.2"
  }
 },
 "nbformat": 4,
 "nbformat_minor": 1
}
